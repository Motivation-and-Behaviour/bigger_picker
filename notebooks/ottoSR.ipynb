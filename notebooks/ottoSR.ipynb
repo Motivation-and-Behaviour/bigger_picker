{
 "cells": [
  {
   "cell_type": "code",
   "execution_count": 1,
   "id": "ecb2f2f5",
   "metadata": {},
   "outputs": [
    {
     "data": {
      "text/plain": [
       "True"
      ]
     },
     "execution_count": 1,
     "metadata": {},
     "output_type": "execute_result"
    }
   ],
   "source": [
    "import csv\n",
    "import os\n",
    "from itertools import batched\n",
    "\n",
    "from dotenv import load_dotenv\n",
    "from tqdm.notebook import tqdm\n",
    "\n",
    "from bigger_picker.rayyan import RayyanManager\n",
    "\n",
    "load_dotenv()"
   ]
  },
  {
   "cell_type": "code",
   "execution_count": 2,
   "id": "5f606629",
   "metadata": {},
   "outputs": [],
   "source": [
    "def get_csv_ratings(file_path):\n",
    "    dois = set()\n",
    "    with open(file_path) as csvfile:\n",
    "        reader = csv.DictReader(csvfile)\n",
    "        for row in reader:\n",
    "            dois.add(row[\"doi\"])\n",
    "\n",
    "    dois = {doi.removeprefix(\"https://doi.org/\").lower().strip() for doi in dois}\n",
    "    return dois"
   ]
  },
  {
   "cell_type": "code",
   "execution_count": 3,
   "id": "82700cb8",
   "metadata": {},
   "outputs": [
    {
     "name": "stdout",
     "output_type": "stream",
     "text": [
      "Included at abstract level: 5520\n",
      "Included at full text level: 1983\n"
     ]
    }
   ],
   "source": [
    "included_ft_dois = get_csv_ratings(\"Sanders - included.csv\")\n",
    "excluded_ft_dois = get_csv_ratings(\"Sanders - excluded-ft.csv\")\n",
    "excluded_ab_dois = get_csv_ratings(\"Sanders - excluded-ab.csv\")\n",
    "failed_ft_dois = get_csv_ratings(\"Sanders - failed-ft.csv\")\n",
    "missing_ft_dois = get_csv_ratings(\"Sanders - missing-ft.csv\")\n",
    "\n",
    "# Combine the ones that indicate inclusion at the abstract level\n",
    "included_ab_dois = (\n",
    "    included_ft_dois.union(excluded_ft_dois)\n",
    "    .union(failed_ft_dois)\n",
    "    .union(missing_ft_dois)\n",
    ")\n",
    "print(f\"Included at abstract level: {len(included_ab_dois)}\")\n",
    "print(f\"Included at full text level: {len(included_ft_dois)}\")"
   ]
  },
  {
   "cell_type": "code",
   "execution_count": 4,
   "id": "16fd004c",
   "metadata": {},
   "outputs": [],
   "source": [
    "rayyan = RayyanManager(\"../rayyan_tokens.json\")"
   ]
  },
  {
   "cell_type": "code",
   "execution_count": 5,
   "id": "1030d3fc",
   "metadata": {},
   "outputs": [
    {
     "data": {
      "application/vnd.jupyter.widget-view+json": {
       "model_id": "9760de0c237f4821baa8c124bcd7da56",
       "version_major": 2,
       "version_minor": 0
      },
      "text/plain": [
       "Overall Progress:   0%|          | 0/30 [00:00<?, ?it/s]"
      ]
     },
     "metadata": {},
     "output_type": "display_data"
    },
    {
     "data": {
      "application/vnd.jupyter.widget-view+json": {
       "model_id": "d6608f5d9e124a95a51868e3fc60cfef",
       "version_major": 2,
       "version_minor": 0
      },
      "text/plain": [
       "Batch 1/30:   0%|          | 0/1000 [00:00<?, ?it/s]"
      ]
     },
     "metadata": {},
     "output_type": "display_data"
    },
    {
     "data": {
      "application/vnd.jupyter.widget-view+json": {
       "model_id": "1b53bd6615db4cffba375b311ab8eaeb",
       "version_major": 2,
       "version_minor": 0
      },
      "text/plain": [
       "Batch 2/30:   0%|          | 0/1000 [00:00<?, ?it/s]"
      ]
     },
     "metadata": {},
     "output_type": "display_data"
    },
    {
     "data": {
      "application/vnd.jupyter.widget-view+json": {
       "model_id": "21d11a9e611c44ba9eaf9869ac42014e",
       "version_major": 2,
       "version_minor": 0
      },
      "text/plain": [
       "Batch 3/30:   0%|          | 0/1000 [00:00<?, ?it/s]"
      ]
     },
     "metadata": {},
     "output_type": "display_data"
    },
    {
     "data": {
      "application/vnd.jupyter.widget-view+json": {
       "model_id": "1e27ab44a89a4223b14037cd0102bee7",
       "version_major": 2,
       "version_minor": 0
      },
      "text/plain": [
       "Batch 4/30:   0%|          | 0/1000 [00:00<?, ?it/s]"
      ]
     },
     "metadata": {},
     "output_type": "display_data"
    },
    {
     "data": {
      "application/vnd.jupyter.widget-view+json": {
       "model_id": "dddd3f23820c41edaeea70c432bebeb8",
       "version_major": 2,
       "version_minor": 0
      },
      "text/plain": [
       "Batch 5/30:   0%|          | 0/1000 [00:00<?, ?it/s]"
      ]
     },
     "metadata": {},
     "output_type": "display_data"
    },
    {
     "data": {
      "application/vnd.jupyter.widget-view+json": {
       "model_id": "4fcab6e6d63c4289bc2553e56d2ce534",
       "version_major": 2,
       "version_minor": 0
      },
      "text/plain": [
       "Batch 6/30:   0%|          | 0/1000 [00:00<?, ?it/s]"
      ]
     },
     "metadata": {},
     "output_type": "display_data"
    },
    {
     "data": {
      "application/vnd.jupyter.widget-view+json": {
       "model_id": "cd1d02f159874ad2ac616317ff474ea7",
       "version_major": 2,
       "version_minor": 0
      },
      "text/plain": [
       "Batch 7/30:   0%|          | 0/1000 [00:00<?, ?it/s]"
      ]
     },
     "metadata": {},
     "output_type": "display_data"
    },
    {
     "data": {
      "application/vnd.jupyter.widget-view+json": {
       "model_id": "1ec5ffb4b6c44faaaa572a2f3b118b53",
       "version_major": 2,
       "version_minor": 0
      },
      "text/plain": [
       "Batch 8/30:   0%|          | 0/1000 [00:00<?, ?it/s]"
      ]
     },
     "metadata": {},
     "output_type": "display_data"
    },
    {
     "data": {
      "application/vnd.jupyter.widget-view+json": {
       "model_id": "7bf9aedd4ea549fbb62207f6bcb39a1a",
       "version_major": 2,
       "version_minor": 0
      },
      "text/plain": [
       "Batch 9/30:   0%|          | 0/1000 [00:00<?, ?it/s]"
      ]
     },
     "metadata": {},
     "output_type": "display_data"
    },
    {
     "data": {
      "application/vnd.jupyter.widget-view+json": {
       "model_id": "bf4f24f503644ecb9b8a1b8ad373594f",
       "version_major": 2,
       "version_minor": 0
      },
      "text/plain": [
       "Batch 10/30:   0%|          | 0/1000 [00:00<?, ?it/s]"
      ]
     },
     "metadata": {},
     "output_type": "display_data"
    },
    {
     "data": {
      "application/vnd.jupyter.widget-view+json": {
       "model_id": "eaf8f0bf46d04d949e4a5a67fb43a8b1",
       "version_major": 2,
       "version_minor": 0
      },
      "text/plain": [
       "Batch 11/30:   0%|          | 0/1000 [00:00<?, ?it/s]"
      ]
     },
     "metadata": {},
     "output_type": "display_data"
    },
    {
     "data": {
      "application/vnd.jupyter.widget-view+json": {
       "model_id": "0ad4560b6c3a4fb88190d9005b8bd915",
       "version_major": 2,
       "version_minor": 0
      },
      "text/plain": [
       "Batch 12/30:   0%|          | 0/1000 [00:00<?, ?it/s]"
      ]
     },
     "metadata": {},
     "output_type": "display_data"
    },
    {
     "data": {
      "application/vnd.jupyter.widget-view+json": {
       "model_id": "79726b78e7134903bc0b33e5e353e2e7",
       "version_major": 2,
       "version_minor": 0
      },
      "text/plain": [
       "Batch 13/30:   0%|          | 0/1000 [00:00<?, ?it/s]"
      ]
     },
     "metadata": {},
     "output_type": "display_data"
    },
    {
     "data": {
      "application/vnd.jupyter.widget-view+json": {
       "model_id": "21c0701164da48499c565b928696eb84",
       "version_major": 2,
       "version_minor": 0
      },
      "text/plain": [
       "Batch 14/30:   0%|          | 0/1000 [00:00<?, ?it/s]"
      ]
     },
     "metadata": {},
     "output_type": "display_data"
    },
    {
     "data": {
      "application/vnd.jupyter.widget-view+json": {
       "model_id": "32e159d6df69420fa35d4fb1a3be10ca",
       "version_major": 2,
       "version_minor": 0
      },
      "text/plain": [
       "Batch 15/30:   0%|          | 0/1000 [00:00<?, ?it/s]"
      ]
     },
     "metadata": {},
     "output_type": "display_data"
    },
    {
     "data": {
      "application/vnd.jupyter.widget-view+json": {
       "model_id": "8aaa3a6bc05644c9ad41f55d3a9efb68",
       "version_major": 2,
       "version_minor": 0
      },
      "text/plain": [
       "Batch 16/30:   0%|          | 0/1000 [00:00<?, ?it/s]"
      ]
     },
     "metadata": {},
     "output_type": "display_data"
    },
    {
     "data": {
      "application/vnd.jupyter.widget-view+json": {
       "model_id": "83a95a24e8084f59b11c3396a1fdb93b",
       "version_major": 2,
       "version_minor": 0
      },
      "text/plain": [
       "Batch 17/30:   0%|          | 0/1000 [00:00<?, ?it/s]"
      ]
     },
     "metadata": {},
     "output_type": "display_data"
    },
    {
     "data": {
      "application/vnd.jupyter.widget-view+json": {
       "model_id": "790bcca67372457293b3160ae0d474b3",
       "version_major": 2,
       "version_minor": 0
      },
      "text/plain": [
       "Batch 18/30:   0%|          | 0/1000 [00:00<?, ?it/s]"
      ]
     },
     "metadata": {},
     "output_type": "display_data"
    },
    {
     "data": {
      "application/vnd.jupyter.widget-view+json": {
       "model_id": "57e982a0da204b4990f11403185a15fd",
       "version_major": 2,
       "version_minor": 0
      },
      "text/plain": [
       "Batch 19/30:   0%|          | 0/1000 [00:00<?, ?it/s]"
      ]
     },
     "metadata": {},
     "output_type": "display_data"
    },
    {
     "data": {
      "application/vnd.jupyter.widget-view+json": {
       "model_id": "8d33f9c457374c709dffcbf472910ba8",
       "version_major": 2,
       "version_minor": 0
      },
      "text/plain": [
       "Batch 20/30:   0%|          | 0/1000 [00:00<?, ?it/s]"
      ]
     },
     "metadata": {},
     "output_type": "display_data"
    },
    {
     "data": {
      "application/vnd.jupyter.widget-view+json": {
       "model_id": "25596693ad084f239ff00b9c25e076fd",
       "version_major": 2,
       "version_minor": 0
      },
      "text/plain": [
       "Batch 21/30:   0%|          | 0/1000 [00:00<?, ?it/s]"
      ]
     },
     "metadata": {},
     "output_type": "display_data"
    },
    {
     "data": {
      "application/vnd.jupyter.widget-view+json": {
       "model_id": "6c6310a05c5a4ed78b37843b26adac0d",
       "version_major": 2,
       "version_minor": 0
      },
      "text/plain": [
       "Batch 22/30:   0%|          | 0/1000 [00:00<?, ?it/s]"
      ]
     },
     "metadata": {},
     "output_type": "display_data"
    },
    {
     "data": {
      "application/vnd.jupyter.widget-view+json": {
       "model_id": "3cade805fef4429789cf0da17dc6250b",
       "version_major": 2,
       "version_minor": 0
      },
      "text/plain": [
       "Batch 23/30:   0%|          | 0/1000 [00:00<?, ?it/s]"
      ]
     },
     "metadata": {},
     "output_type": "display_data"
    },
    {
     "data": {
      "application/vnd.jupyter.widget-view+json": {
       "model_id": "616c275ba8664a18a1fba7d8422d6307",
       "version_major": 2,
       "version_minor": 0
      },
      "text/plain": [
       "Batch 24/30:   0%|          | 0/1000 [00:00<?, ?it/s]"
      ]
     },
     "metadata": {},
     "output_type": "display_data"
    },
    {
     "data": {
      "application/vnd.jupyter.widget-view+json": {
       "model_id": "7745573b342a48a795e9f26a10ed56e0",
       "version_major": 2,
       "version_minor": 0
      },
      "text/plain": [
       "Batch 25/30:   0%|          | 0/1000 [00:00<?, ?it/s]"
      ]
     },
     "metadata": {},
     "output_type": "display_data"
    },
    {
     "data": {
      "application/vnd.jupyter.widget-view+json": {
       "model_id": "d647925d1ad94ca5b7fe528c7035a241",
       "version_major": 2,
       "version_minor": 0
      },
      "text/plain": [
       "Batch 26/30:   0%|          | 0/1000 [00:00<?, ?it/s]"
      ]
     },
     "metadata": {},
     "output_type": "display_data"
    },
    {
     "data": {
      "application/vnd.jupyter.widget-view+json": {
       "model_id": "f6400439c2464b5898118beecc35aa61",
       "version_major": 2,
       "version_minor": 0
      },
      "text/plain": [
       "Batch 27/30:   0%|          | 0/1000 [00:00<?, ?it/s]"
      ]
     },
     "metadata": {},
     "output_type": "display_data"
    },
    {
     "data": {
      "application/vnd.jupyter.widget-view+json": {
       "model_id": "b4a8398ad06841028ac9adf002d37f37",
       "version_major": 2,
       "version_minor": 0
      },
      "text/plain": [
       "Batch 28/30:   0%|          | 0/1000 [00:00<?, ?it/s]"
      ]
     },
     "metadata": {},
     "output_type": "display_data"
    },
    {
     "data": {
      "application/vnd.jupyter.widget-view+json": {
       "model_id": "046228a2539a44fe9f3473ffcd3e74bc",
       "version_major": 2,
       "version_minor": 0
      },
      "text/plain": [
       "Batch 29/30:   0%|          | 0/1000 [00:00<?, ?it/s]"
      ]
     },
     "metadata": {},
     "output_type": "display_data"
    },
    {
     "data": {
      "application/vnd.jupyter.widget-view+json": {
       "model_id": "033f079d59b740e4a92434f15b6dd2c2",
       "version_major": 2,
       "version_minor": 0
      },
      "text/plain": [
       "Batch 30/30:   0%|          | 0/610 [00:00<?, ?it/s]"
      ]
     },
     "metadata": {},
     "output_type": "display_data"
    }
   ],
   "source": [
    "n_articles = 29610\n",
    "batch_size = 1000\n",
    "batches = batched(range(0, n_articles), batch_size)\n",
    "total_batches = (n_articles + batch_size - 1) // batch_size\n",
    "\n",
    "with tqdm(total=total_batches, desc=\"Overall Progress\") as overall_pbar:\n",
    "    for batch_idx, batch in enumerate(batches):\n",
    "        results_params = {\"start\": batch[0], \"length\": len(batch)}\n",
    "        articles = rayyan.review.results(rayyan.review_id, results_params)\n",
    "        articles_data = articles[\"data\"]\n",
    "\n",
    "        with tqdm(\n",
    "            total=len(articles_data),\n",
    "            desc=f\"Batch {batch_idx + 1}/{total_batches}\",\n",
    "            leave=False,\n",
    "        ) as batch_pbar:\n",
    "            for article in articles_data:\n",
    "                article_doi = article[\"doi\"]\n",
    "                try:\n",
    "                    article_doi = (\n",
    "                        article_doi.removeprefix(\"https://doi.org/\").lower().strip()\n",
    "                    )\n",
    "                except AttributeError:\n",
    "                    # No DOI so skip\n",
    "                    batch_pbar.update(1)\n",
    "                    continue\n",
    "\n",
    "                plan = {}\n",
    "\n",
    "                if article_doi in included_ft_dois:\n",
    "                    plan[\"OttoSR: Include Full-Text\"] = 1\n",
    "                    plan[\"OttoSR: Include Abstract\"] = 1\n",
    "                if article_doi in included_ab_dois:\n",
    "                    plan[\"OttoSR: Include Abstract\"] = 1\n",
    "                if article_doi in excluded_ft_dois:\n",
    "                    plan[\"OttoSR: Exclude Full-Text\"] = 1\n",
    "\n",
    "                # Check if we can avoid processing\n",
    "                existing_labels = article[\"customizations\"].get(\"labels\", {})\n",
    "\n",
    "                if (\n",
    "                    existing_labels.get(\"OttoSR: Include\") is None\n",
    "                    and existing_labels.get(\"OttoSR: Exclude Full-Text\") is None\n",
    "                    and plan.get(\"OttoSR: Include Abstract\") is None\n",
    "                    and plan.get(\"OttoSR: Exclude Full-Text\") is None\n",
    "                ):\n",
    "                    # There is no existing label or plan for this article\n",
    "                    batch_pbar.update(1)\n",
    "                    continue\n",
    "\n",
    "                # If we haven't set the plan, we default to removing existing labels\n",
    "                plan.setdefault(\"OttoSR: Include\", -1)\n",
    "                plan.setdefault(\"OttoSR: Exclude Full-Text\", -1)\n",
    "\n",
    "                rayyan.review.customize(rayyan.review_id, article[\"id\"], plan)\n",
    "                included_ab_dois.discard(article_doi)\n",
    "                included_ft_dois.discard(article_doi)\n",
    "                excluded_ft_dois.discard(article_doi)\n",
    "\n",
    "                batch_pbar.update(1)\n",
    "\n",
    "        overall_pbar.update(1)"
   ]
  },
  {
   "cell_type": "code",
   "execution_count": 7,
   "id": "0989e311",
   "metadata": {},
   "outputs": [
    {
     "name": "stdout",
     "output_type": "stream",
     "text": [
      "Included abstract DOIs left: 77\n",
      "Included full-text DOIs left: 19\n",
      "Excluded DOIs left: 18\n"
     ]
    }
   ],
   "source": [
    "print(\"Included abstract DOIs left:\", len(included_ab_dois))\n",
    "print(\"Included full-text DOIs left:\", len(included_ft_dois))\n",
    "print(\"Excluded DOIs left:\", len(excluded_ft_dois))\n"
   ]
  },
  {
   "cell_type": "code",
   "execution_count": 59,
   "id": "9e9e438e",
   "metadata": {},
   "outputs": [],
   "source": [
    "def get_leftover_dois(csv_path, leftover_dois):\n",
    "    leftover_rows = []\n",
    "    with open(csv_path) as csvfile:\n",
    "        reader = csv.DictReader(csvfile)\n",
    "        for row in reader:\n",
    "            if (\n",
    "                row[\"doi\"].removeprefix(\"https://doi.org/\").lower().strip()\n",
    "                in leftover_dois\n",
    "            ):\n",
    "                leftover_rows.append(row)\n",
    "\n",
    "    with open(os.path.splitext(csv_path)[0] + \"-leftover.csv\", \"w\") as csvfile:\n",
    "        fieldnames = reader.fieldnames\n",
    "        writer = csv.DictWriter(csvfile, fieldnames=fieldnames)\n",
    "        writer.writeheader()\n",
    "        for row in leftover_rows:\n",
    "            writer.writerow(row)\n",
    "\n",
    "    return leftover_rows\n",
    "\n",
    "\n",
    "leftover_included = get_leftover_dois(\"Sanders-included.csv\", included_dois)\n",
    "assert len(leftover_included) == len(included_dois)\n",
    "leftover_excluded = get_leftover_dois(\"Sanders-excluded_ft.csv\", excluded_dois)\n",
    "assert len(leftover_excluded) == len(excluded_dois)"
   ]
  },
  {
   "cell_type": "code",
   "execution_count": 60,
   "id": "0f480031",
   "metadata": {},
   "outputs": [
    {
     "name": "stdout",
     "output_type": "stream",
     "text": [
      "\n",
      "Article DOI: https://doi.org/10.1109/cisti.2014.6877016\n",
      "Title: Electronic games for curricular learning in mother and foreign languages\n",
      "Authors: [\"Moura, A.\"]\n",
      "Year: 2014\n",
      "\n",
      "\n",
      "Article DOI: https://doi.org/10.21071/pse.v15i3.16093\n",
      "Title: Positive Internet use and online civic engagement versus active involvement in selected online risks – how are both connected in adolescents from six European countries?\n",
      "Authors: [\"Pyżalski, J.\"]\n",
      "Year: 2023\n",
      "\n",
      "\n",
      "Article DOI: https://doi.org/10.19173/irrodl.v20i2.4074\n",
      "Title: Exploring high school students' educational use of youtube\n",
      "Authors: [\"Bardakci, S.\"]\n",
      "Year: 2019\n",
      "\n",
      "\n",
      "Article DOI: https://doi.org/10.1007/s10803-022-05694-w\n",
      "Title: Correction: Video Game Use, Aggression, and Social Impairment in Adolescents with Autism Spectrum Disorder (Journal of Autism and Developmental Disorders, (2022), 10.1007/s10803-022-05649-1)\n",
      "Authors: [\"Davis, K.\",\"Iosif, A.-M.\",\"Nordahl, C.W.\",\"Solomon, M.\",\"Krug, M.K.\"]\n",
      "Year: 2023\n",
      "\n",
      "\n",
      "Article DOI: https://doi.org/10.1038/s41598-025-96671-7\n",
      "Title: Relationship between adolescent gaming addiction and myopia, ocular surface condition, and health status: a questionnaire based cohort study\n",
      "Authors: [\"Wang, X.-Y.\",\"Hu, J.-Y.\",\"Ge, Q.-M.\",\"Chen, C.\",\"Xu, S.-H.\",\"Ling, Q.\",\"Zeng, Y.-M.\",\"Yao, W.-T.\",\"Wei, H.\",\"Zou, J.\",\"He, L.-Q.\",\"Lou, Y.\",\"Shao, Y.\"]\n",
      "Year: 2025\n",
      "\n",
      "\n",
      "Article DOI: https://doi.org/10.24095/hpcdp.31.4.01\n",
      "Title: Screen-based sedentary behaviours among a nationally representative sample of youth: Are Canadian kids couch potatoes?\n",
      "Authors: [\"Leatherdale, S.T.\",\"Ahmed, R.\"]\n",
      "Year: 2011\n",
      "\n",
      "\n",
      "Article DOI: https://doi.org/10.11114/smc.v7i2.4613\n",
      "Title: Social Media: A Security Threat amongst Adolescents in Buea, Cameroon?\n",
      "Authors: [\"Ngange, K.L.\",\"Fonkem, V.T.\",\"Ndode, S.N.\"]\n",
      "Year: 2019\n",
      "\n",
      "\n",
      "Article DOI: https://doi.org/10.1186/s12888-024-05669-4\n",
      "Title: Correction to: Evaluating the effect of action-like video game play and of casual video game play on anxiety in adolescents with elevated anxiety: protocol for a multi-center, parallel group, assessor-blind, randomized controlled trial (BMC Psychiatry, (2024), 24, 1, (56), 10.1186/s12888-024-05515-7)\n",
      "Authors: [\"Gradi, N.\",\"Chopin, A.\",\"Bavelier, D.\",\"Shechner, T.\",\"Pichon, S.\"]\n",
      "Year: 2024\n",
      "\n",
      "\n",
      "Article DOI: https://doi.org/10.3389/fdpys.2024.1419756\n",
      "Title: Friends, followers, peers, and posts: adolescents' in-person and online friendship networks and social media use influences on friendship closeness via the importance of technology for social connection\n",
      "Authors: [\"Al-Jbouri, E.\",\"Volk, A.A.\",\"Spadafora, N.\",\"Andrews, N.C.Z.\"]\n",
      "Year: 2024\n",
      "\n",
      "\n",
      "Article DOI: https://doi.org/10.30827/digibug.54024\n",
      "Title: Extramural exposure and language attainment: The examination of input-related variables in CLIL programmes\n",
      "Authors: [\"Lancaster, N.K.\"]\n",
      "Year: 2018\n",
      "\n",
      "\n",
      "Article DOI: https://doi.org/10.2196/43211\n",
      "Title: Erratum: Development of a Therapeutic Video Game With the MDA Framework to Decrease Anxiety in Preschool-Aged Children With Acute Lymphoblastic Leukemia: Mixed Methods Approach (JMIR Serious Games (2022) 10:3 (e37079) DOI: 10.2196/e37079)\n",
      "Authors: [\"Yang, D.-J.\",\"Lu, M.-Y.\",\"Chen, C.-W.\",\"Liu, P.-C.\",\"Hou, I.-C.\"]\n",
      "Year: 2022\n",
      "\n",
      "\n",
      "Article DOI: https://doi.org/10.21101/cejph.a4177\n",
      "Title: Age and gender differences in prevalence of screen based behaviour, physical activity and health complaints among Slovak school-aged children\n",
      "Authors: [\"Husárová, D.\",\"Veselská, Z.D.\",\"Sigmundová, D.\",\"Madarasová Gecková, A.\"]\n",
      "Year: 2015\n",
      "\n",
      "\n",
      "Article DOI: https://doi.org/10.34190/ecsm.10.1.1097\n",
      "Title: Social Media Withdrawal: What Social Media Services and Activities Teenagers miss when they are \"switched-off\"?\n",
      "Authors: [\"Adelhardt, Z.\",\"Eberle, T.\"]\n",
      "Year: 2023\n",
      "\n",
      "\n",
      "Article DOI: https://doi.org/10.3889/oamjms.2014.092\n",
      "Title: Lifestyle and health risk behaviours among Elbasan students\n",
      "Authors: [\"Cela, D.\",\"Kuneshka, L.\",\"Pulluqi, P.\"]\n",
      "Year: 2014\n",
      "\n",
      "\n",
      "Article DOI: https://doi.org/10.4018/ijicte.313955\n",
      "Title: Influence of Educational Video Games for the Achievement of the Mathematics and Problem-Solving Abilities of Upper Primary School Students\n",
      "Authors: [\"Kumar, P.G.\",\"Vasimalairaja, M.\"]\n",
      "Year: 2022\n",
      "\n",
      "\n",
      "Article DOI: https://doi.org/10.1177/14614448231194873\n",
      "Title: Corrigendum to: Does aggressive commentary by streamers during violent video game affect state aggression in adolescents? (New Media & Society, (2023), (14614448231182620), 10.1177/14614448231182620)\n",
      "Authors: \n",
      "Year: 2023\n",
      "\n"
     ]
    }
   ],
   "source": [
    "for article in leftover_included:\n",
    "    print(\n",
    "        f\"\"\"\n",
    "Article DOI: {article[\"doi\"]}\n",
    "Title: {article[\"title\"]}\n",
    "Authors: {article[\"authors\"]}\n",
    "Year: {article[\"date\"]}\n",
    "\"\"\"\n",
    "    )"
   ]
  },
  {
   "cell_type": "code",
   "execution_count": 61,
   "id": "2974954b",
   "metadata": {},
   "outputs": [
    {
     "name": "stdout",
     "output_type": "stream",
     "text": [
      "\n",
      "Article DOI: https://doi.org/10.18687/laccei2018.1.1.362\n",
      "Title: Game based learning in improving students' derivative calculation skills\n",
      "Authors: [\"Zhu, W.\",\"Zhang, L.\",\"Brown, W.\",\"Dabipi, I.\",\"Peterson, E.\",\"Joshi, R.\",\"Bayingana, A.\"]\n",
      "Year: 2018\n",
      "\n",
      "\n",
      "Article DOI: https://doi.org/10.34190/ecsm.10.1.1151\n",
      "Title: The Influence of TikTok on Young Generation in Vietnam\n",
      "Authors: [\"Truong, P.H.\",\"Kim, A.D.\"]\n",
      "Year: 2023\n",
      "\n",
      "\n",
      "Article DOI: https://doi.org/10.32870/cys.v0i33.7007\n",
      "Title: Informal learning strategies for transmedia skills in adolescents in Uruguay\n",
      "Authors: [\"Morales, S.\",\"Cabrera, M.\",\"Rodríguez, G.\"]\n",
      "Year: 2018\n",
      "\n",
      "\n",
      "Article DOI: https://doi.org/10.1038/s44184-022-00011-w\n",
      "Title: The mental health and well-being profile of young adults using social media\n",
      "Authors: [\"Di Cara, N.H.\",\"Winstone, L.\",\"Sloan, L.\",\"Davis, O.S.P.\",\"Haworth, C.M.A.\"]\n",
      "Year: 2022\n",
      "\n",
      "\n",
      "Article DOI: https://doi.org/10.1109/mmul.2015.96\n",
      "Title: Social Media Interaction and Analytics for Enhanced Educational Experiences\n",
      "Authors: [\"Palaiokrassas, G.\",\"Voulodimos, A.\",\"Konstanteli, K.\",\"Vretos, N.\",\"Osborne, D.S.\",\"Chatzi, E.\",\"Daras, P.\",\"Varvarigou, T.\"]\n",
      "Year: 2016\n",
      "\n",
      "\n",
      "Article DOI: https://doi.org/10.18260/1-2--47048\n",
      "Title: (Board 51/Work in Progress) Cognitive and Emotional Effects of the Video Game Freedom Bridge\n",
      "Authors: [\"Falade, S.O.\",\"Shryock, K.J.\",\"Rugh, M.S.\",\"Thomas, A.\"]\n",
      "Year: 2024\n",
      "\n",
      "\n",
      "Article DOI: https://doi.org/10.4274/jcp.2017.0017\n",
      "Title: The effect of electronic media usage children and adolescents with obesity and sleep problems\n",
      "Authors: [\"Akçay, D.\"]\n",
      "Year: 2017\n",
      "\n",
      "\n",
      "Article DOI: https://doi.org/10.22318/icls2024.333889\n",
      "Title: Learners' Presence in VR Field Trips Depends on Design of the Media, Not Novelty\n",
      "Authors: [\"McGivney, E.\"]\n",
      "Year: 2024\n",
      "\n",
      "\n",
      "Article DOI: https://doi.org/10.22605/rrh1716\n",
      "Title: Rural youth and violence: A gender perspective\n",
      "Authors: [\"Hall, B.L.\",\"Kulig, J.\",\"Grant Kalischuk, R.\"]\n",
      "Year: 2011\n",
      "\n",
      "\n",
      "Article DOI: https://doi.org/10.14742/ajet.1044\n",
      "Title: Learning to play games or playing games to learn? A health education case study with soweto teenagers\n",
      "Authors: [\"Amory, A.\"]\n",
      "Year: 2010\n",
      "\n",
      "\n",
      "Article DOI: https://doi.org/10.1016/j.janxdis.2018.12.003\n",
      "Title: Immersive 3D exposure-based treatment for spider fear: A randomized controlled trial\n",
      "Authors: [\"Minns, S.\",\"Levihn-Coon, A.\",\"Carl, E.\",\"Smits, J.A.J.\",\"Miller, W.\",\"Howard, D.\",\"Papini, S.\",\"Quiroz, S.\",\"Lee-Furman, E.\",\"Telch, M.\",\"Carlbring, P.\",\"Xanthopoulos, D.\",\"Powers, M.B.\"]\n",
      "Year: 2019\n",
      "\n",
      "\n",
      "Article DOI: https://doi.org/10.1016/j.isci.2023.106038\n",
      "Title: Developmental change in predictive motor abilities\n",
      "Authors: [\"Park, S.-W.\",\"Cardinaux, A.\",\"Crozier, D.\",\"Russo, M.\",\"Kjelgaard, M.\",\"Sinha, P.\",\"Sternad, D.\"]\n",
      "Year: 2023\n",
      "\n",
      "\n",
      "Article DOI: https://doi.org/10.1556/2006.2024.20000\n",
      "Title: Corrigendum to: A cross-national comparison of problematic gaming behavior and well-being in adolescents\n",
      "Authors: [\"Neut, D.V.\",\"Peeters, M.\",\"Boniel-Nissim, M.\",\"Klanšček, H.J.\",\"Oja, L.\",\"Eijnden, R.V.D.\"]\n",
      "Year: 2024\n",
      "\n",
      "\n",
      "Article DOI: https://doi.org/10.1109/fie.2013.6684915\n",
      "Title: Adding social elements to game-based learning - An exploration\n",
      "Authors: [\"Lai, C.-H.\",\"Jong, B.-S.\",\"Lin, Y.-C.\",\"Hsia, Y.-T.\"]\n",
      "Year: 2013\n",
      "\n",
      "\n",
      "Article DOI: https://doi.org/10.1145/2559206.2581506\n",
      "Title: Find the Jackalop: A game enhancing young children spatial thinking\n",
      "Authors: [\"Kalmpourtzis, G.\"]\n",
      "Year: 2014\n",
      "\n"
     ]
    }
   ],
   "source": [
    "for article in leftover_excluded:\n",
    "    print(\n",
    "        f\"\"\"\n",
    "Article DOI: {article[\"doi\"]}\n",
    "Title: {article[\"title\"]}\n",
    "Authors: {article[\"authors\"]}\n",
    "Year: {article[\"date\"]}\n",
    "\"\"\"\n",
    "    )"
   ]
  },
  {
   "cell_type": "code",
   "execution_count": null,
   "id": "5420d0bc",
   "metadata": {},
   "outputs": [],
   "source": []
  }
 ],
 "metadata": {
  "kernelspec": {
   "display_name": ".venv",
   "language": "python",
   "name": "python3"
  },
  "language_info": {
   "codemirror_mode": {
    "name": "ipython",
    "version": 3
   },
   "file_extension": ".py",
   "mimetype": "text/x-python",
   "name": "python",
   "nbconvert_exporter": "python",
   "pygments_lexer": "ipython3",
   "version": "3.13.3"
  }
 },
 "nbformat": 4,
 "nbformat_minor": 5
}
