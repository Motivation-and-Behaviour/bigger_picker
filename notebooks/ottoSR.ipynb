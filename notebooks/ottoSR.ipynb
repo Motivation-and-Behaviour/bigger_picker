{
 "cells": [
  {
   "cell_type": "code",
   "execution_count": null,
   "id": "ecb2f2f5",
   "metadata": {},
   "outputs": [
    {
     "data": {
      "text/plain": [
       "True"
      ]
     },
     "execution_count": 1,
     "metadata": {},
     "output_type": "execute_result"
    }
   ],
   "source": [
    "import csv\n",
    "from itertools import batched\n",
    "\n",
    "from dotenv import load_dotenv\n",
    "from tqdm.notebook import tqdm\n",
    "\n",
    "from bigger_picker.rayyan import RayyanManager\n",
    "\n",
    "load_dotenv()"
   ]
  },
  {
   "cell_type": "code",
   "execution_count": 2,
   "id": "5f606629",
   "metadata": {},
   "outputs": [],
   "source": [
    "def get_csv_ratings(file_path):\n",
    "    dois = set()\n",
    "    with open(file_path) as csvfile:\n",
    "        reader = csv.DictReader(csvfile)\n",
    "        for row in reader:\n",
    "            dois.add(row[\"doi\"])\n",
    "\n",
    "    dois = {doi.removeprefix(\"https://doi.org/\").lower().strip() for doi in dois}\n",
    "    return dois"
   ]
  },
  {
   "cell_type": "code",
   "execution_count": 3,
   "id": "82700cb8",
   "metadata": {},
   "outputs": [
    {
     "name": "stdout",
     "output_type": "stream",
     "text": [
      "Included at abstract level: 5520\n",
      "Included at full text level: 1983\n"
     ]
    }
   ],
   "source": [
    "included_ft_dois = get_csv_ratings(\"Sanders - included.csv\")\n",
    "excluded_ft_dois = get_csv_ratings(\"Sanders - excluded-ft.csv\")\n",
    "excluded_ab_dois = get_csv_ratings(\"Sanders - excluded-ab.csv\")\n",
    "failed_ft_dois = get_csv_ratings(\"Sanders - failed-ft.csv\")\n",
    "missing_ft_dois = get_csv_ratings(\"Sanders - missing-ft.csv\")\n",
    "\n",
    "# Combine the ones that indicate inclusion at the abstract level\n",
    "included_ab_dois = (\n",
    "    included_ft_dois.union(excluded_ft_dois)\n",
    "    .union(failed_ft_dois)\n",
    "    .union(missing_ft_dois)\n",
    ")\n",
    "print(f\"Included at abstract level: {len(included_ab_dois)}\")\n",
    "print(f\"Included at full text level: {len(included_ft_dois)}\")"
   ]
  },
  {
   "cell_type": "code",
   "execution_count": 4,
   "id": "16fd004c",
   "metadata": {},
   "outputs": [],
   "source": [
    "rayyan = RayyanManager(\"../rayyan_tokens.json\")"
   ]
  },
  {
   "cell_type": "code",
   "execution_count": 5,
   "id": "1030d3fc",
   "metadata": {},
   "outputs": [
    {
     "data": {
      "application/vnd.jupyter.widget-view+json": {
       "model_id": "9760de0c237f4821baa8c124bcd7da56",
       "version_major": 2,
       "version_minor": 0
      },
      "text/plain": [
       "Overall Progress:   0%|          | 0/30 [00:00<?, ?it/s]"
      ]
     },
     "metadata": {},
     "output_type": "display_data"
    },
    {
     "data": {
      "application/vnd.jupyter.widget-view+json": {
       "model_id": "d6608f5d9e124a95a51868e3fc60cfef",
       "version_major": 2,
       "version_minor": 0
      },
      "text/plain": [
       "Batch 1/30:   0%|          | 0/1000 [00:00<?, ?it/s]"
      ]
     },
     "metadata": {},
     "output_type": "display_data"
    },
    {
     "data": {
      "application/vnd.jupyter.widget-view+json": {
       "model_id": "1b53bd6615db4cffba375b311ab8eaeb",
       "version_major": 2,
       "version_minor": 0
      },
      "text/plain": [
       "Batch 2/30:   0%|          | 0/1000 [00:00<?, ?it/s]"
      ]
     },
     "metadata": {},
     "output_type": "display_data"
    },
    {
     "data": {
      "application/vnd.jupyter.widget-view+json": {
       "model_id": "21d11a9e611c44ba9eaf9869ac42014e",
       "version_major": 2,
       "version_minor": 0
      },
      "text/plain": [
       "Batch 3/30:   0%|          | 0/1000 [00:00<?, ?it/s]"
      ]
     },
     "metadata": {},
     "output_type": "display_data"
    },
    {
     "data": {
      "application/vnd.jupyter.widget-view+json": {
       "model_id": "1e27ab44a89a4223b14037cd0102bee7",
       "version_major": 2,
       "version_minor": 0
      },
      "text/plain": [
       "Batch 4/30:   0%|          | 0/1000 [00:00<?, ?it/s]"
      ]
     },
     "metadata": {},
     "output_type": "display_data"
    },
    {
     "data": {
      "application/vnd.jupyter.widget-view+json": {
       "model_id": "dddd3f23820c41edaeea70c432bebeb8",
       "version_major": 2,
       "version_minor": 0
      },
      "text/plain": [
       "Batch 5/30:   0%|          | 0/1000 [00:00<?, ?it/s]"
      ]
     },
     "metadata": {},
     "output_type": "display_data"
    },
    {
     "data": {
      "application/vnd.jupyter.widget-view+json": {
       "model_id": "4fcab6e6d63c4289bc2553e56d2ce534",
       "version_major": 2,
       "version_minor": 0
      },
      "text/plain": [
       "Batch 6/30:   0%|          | 0/1000 [00:00<?, ?it/s]"
      ]
     },
     "metadata": {},
     "output_type": "display_data"
    },
    {
     "data": {
      "application/vnd.jupyter.widget-view+json": {
       "model_id": "cd1d02f159874ad2ac616317ff474ea7",
       "version_major": 2,
       "version_minor": 0
      },
      "text/plain": [
       "Batch 7/30:   0%|          | 0/1000 [00:00<?, ?it/s]"
      ]
     },
     "metadata": {},
     "output_type": "display_data"
    },
    {
     "data": {
      "application/vnd.jupyter.widget-view+json": {
       "model_id": "1ec5ffb4b6c44faaaa572a2f3b118b53",
       "version_major": 2,
       "version_minor": 0
      },
      "text/plain": [
       "Batch 8/30:   0%|          | 0/1000 [00:00<?, ?it/s]"
      ]
     },
     "metadata": {},
     "output_type": "display_data"
    },
    {
     "data": {
      "application/vnd.jupyter.widget-view+json": {
       "model_id": "7bf9aedd4ea549fbb62207f6bcb39a1a",
       "version_major": 2,
       "version_minor": 0
      },
      "text/plain": [
       "Batch 9/30:   0%|          | 0/1000 [00:00<?, ?it/s]"
      ]
     },
     "metadata": {},
     "output_type": "display_data"
    },
    {
     "data": {
      "application/vnd.jupyter.widget-view+json": {
       "model_id": "bf4f24f503644ecb9b8a1b8ad373594f",
       "version_major": 2,
       "version_minor": 0
      },
      "text/plain": [
       "Batch 10/30:   0%|          | 0/1000 [00:00<?, ?it/s]"
      ]
     },
     "metadata": {},
     "output_type": "display_data"
    },
    {
     "data": {
      "application/vnd.jupyter.widget-view+json": {
       "model_id": "eaf8f0bf46d04d949e4a5a67fb43a8b1",
       "version_major": 2,
       "version_minor": 0
      },
      "text/plain": [
       "Batch 11/30:   0%|          | 0/1000 [00:00<?, ?it/s]"
      ]
     },
     "metadata": {},
     "output_type": "display_data"
    },
    {
     "data": {
      "application/vnd.jupyter.widget-view+json": {
       "model_id": "0ad4560b6c3a4fb88190d9005b8bd915",
       "version_major": 2,
       "version_minor": 0
      },
      "text/plain": [
       "Batch 12/30:   0%|          | 0/1000 [00:00<?, ?it/s]"
      ]
     },
     "metadata": {},
     "output_type": "display_data"
    },
    {
     "data": {
      "application/vnd.jupyter.widget-view+json": {
       "model_id": "79726b78e7134903bc0b33e5e353e2e7",
       "version_major": 2,
       "version_minor": 0
      },
      "text/plain": [
       "Batch 13/30:   0%|          | 0/1000 [00:00<?, ?it/s]"
      ]
     },
     "metadata": {},
     "output_type": "display_data"
    },
    {
     "data": {
      "application/vnd.jupyter.widget-view+json": {
       "model_id": "21c0701164da48499c565b928696eb84",
       "version_major": 2,
       "version_minor": 0
      },
      "text/plain": [
       "Batch 14/30:   0%|          | 0/1000 [00:00<?, ?it/s]"
      ]
     },
     "metadata": {},
     "output_type": "display_data"
    },
    {
     "data": {
      "application/vnd.jupyter.widget-view+json": {
       "model_id": "32e159d6df69420fa35d4fb1a3be10ca",
       "version_major": 2,
       "version_minor": 0
      },
      "text/plain": [
       "Batch 15/30:   0%|          | 0/1000 [00:00<?, ?it/s]"
      ]
     },
     "metadata": {},
     "output_type": "display_data"
    },
    {
     "data": {
      "application/vnd.jupyter.widget-view+json": {
       "model_id": "8aaa3a6bc05644c9ad41f55d3a9efb68",
       "version_major": 2,
       "version_minor": 0
      },
      "text/plain": [
       "Batch 16/30:   0%|          | 0/1000 [00:00<?, ?it/s]"
      ]
     },
     "metadata": {},
     "output_type": "display_data"
    },
    {
     "data": {
      "application/vnd.jupyter.widget-view+json": {
       "model_id": "83a95a24e8084f59b11c3396a1fdb93b",
       "version_major": 2,
       "version_minor": 0
      },
      "text/plain": [
       "Batch 17/30:   0%|          | 0/1000 [00:00<?, ?it/s]"
      ]
     },
     "metadata": {},
     "output_type": "display_data"
    },
    {
     "data": {
      "application/vnd.jupyter.widget-view+json": {
       "model_id": "790bcca67372457293b3160ae0d474b3",
       "version_major": 2,
       "version_minor": 0
      },
      "text/plain": [
       "Batch 18/30:   0%|          | 0/1000 [00:00<?, ?it/s]"
      ]
     },
     "metadata": {},
     "output_type": "display_data"
    },
    {
     "data": {
      "application/vnd.jupyter.widget-view+json": {
       "model_id": "57e982a0da204b4990f11403185a15fd",
       "version_major": 2,
       "version_minor": 0
      },
      "text/plain": [
       "Batch 19/30:   0%|          | 0/1000 [00:00<?, ?it/s]"
      ]
     },
     "metadata": {},
     "output_type": "display_data"
    },
    {
     "data": {
      "application/vnd.jupyter.widget-view+json": {
       "model_id": "8d33f9c457374c709dffcbf472910ba8",
       "version_major": 2,
       "version_minor": 0
      },
      "text/plain": [
       "Batch 20/30:   0%|          | 0/1000 [00:00<?, ?it/s]"
      ]
     },
     "metadata": {},
     "output_type": "display_data"
    },
    {
     "data": {
      "application/vnd.jupyter.widget-view+json": {
       "model_id": "25596693ad084f239ff00b9c25e076fd",
       "version_major": 2,
       "version_minor": 0
      },
      "text/plain": [
       "Batch 21/30:   0%|          | 0/1000 [00:00<?, ?it/s]"
      ]
     },
     "metadata": {},
     "output_type": "display_data"
    },
    {
     "data": {
      "application/vnd.jupyter.widget-view+json": {
       "model_id": "6c6310a05c5a4ed78b37843b26adac0d",
       "version_major": 2,
       "version_minor": 0
      },
      "text/plain": [
       "Batch 22/30:   0%|          | 0/1000 [00:00<?, ?it/s]"
      ]
     },
     "metadata": {},
     "output_type": "display_data"
    },
    {
     "data": {
      "application/vnd.jupyter.widget-view+json": {
       "model_id": "3cade805fef4429789cf0da17dc6250b",
       "version_major": 2,
       "version_minor": 0
      },
      "text/plain": [
       "Batch 23/30:   0%|          | 0/1000 [00:00<?, ?it/s]"
      ]
     },
     "metadata": {},
     "output_type": "display_data"
    },
    {
     "data": {
      "application/vnd.jupyter.widget-view+json": {
       "model_id": "616c275ba8664a18a1fba7d8422d6307",
       "version_major": 2,
       "version_minor": 0
      },
      "text/plain": [
       "Batch 24/30:   0%|          | 0/1000 [00:00<?, ?it/s]"
      ]
     },
     "metadata": {},
     "output_type": "display_data"
    },
    {
     "data": {
      "application/vnd.jupyter.widget-view+json": {
       "model_id": "7745573b342a48a795e9f26a10ed56e0",
       "version_major": 2,
       "version_minor": 0
      },
      "text/plain": [
       "Batch 25/30:   0%|          | 0/1000 [00:00<?, ?it/s]"
      ]
     },
     "metadata": {},
     "output_type": "display_data"
    },
    {
     "data": {
      "application/vnd.jupyter.widget-view+json": {
       "model_id": "d647925d1ad94ca5b7fe528c7035a241",
       "version_major": 2,
       "version_minor": 0
      },
      "text/plain": [
       "Batch 26/30:   0%|          | 0/1000 [00:00<?, ?it/s]"
      ]
     },
     "metadata": {},
     "output_type": "display_data"
    },
    {
     "data": {
      "application/vnd.jupyter.widget-view+json": {
       "model_id": "f6400439c2464b5898118beecc35aa61",
       "version_major": 2,
       "version_minor": 0
      },
      "text/plain": [
       "Batch 27/30:   0%|          | 0/1000 [00:00<?, ?it/s]"
      ]
     },
     "metadata": {},
     "output_type": "display_data"
    },
    {
     "data": {
      "application/vnd.jupyter.widget-view+json": {
       "model_id": "b4a8398ad06841028ac9adf002d37f37",
       "version_major": 2,
       "version_minor": 0
      },
      "text/plain": [
       "Batch 28/30:   0%|          | 0/1000 [00:00<?, ?it/s]"
      ]
     },
     "metadata": {},
     "output_type": "display_data"
    },
    {
     "data": {
      "application/vnd.jupyter.widget-view+json": {
       "model_id": "046228a2539a44fe9f3473ffcd3e74bc",
       "version_major": 2,
       "version_minor": 0
      },
      "text/plain": [
       "Batch 29/30:   0%|          | 0/1000 [00:00<?, ?it/s]"
      ]
     },
     "metadata": {},
     "output_type": "display_data"
    },
    {
     "data": {
      "application/vnd.jupyter.widget-view+json": {
       "model_id": "033f079d59b740e4a92434f15b6dd2c2",
       "version_major": 2,
       "version_minor": 0
      },
      "text/plain": [
       "Batch 30/30:   0%|          | 0/610 [00:00<?, ?it/s]"
      ]
     },
     "metadata": {},
     "output_type": "display_data"
    }
   ],
   "source": [
    "n_articles = 29610\n",
    "batch_size = 1000\n",
    "batches = batched(range(0, n_articles), batch_size)\n",
    "total_batches = (n_articles + batch_size - 1) // batch_size\n",
    "\n",
    "with tqdm(total=total_batches, desc=\"Overall Progress\") as overall_pbar:\n",
    "    for batch_idx, batch in enumerate(batches):\n",
    "        results_params = {\"start\": batch[0], \"length\": len(batch)}\n",
    "        articles = rayyan.review.results(rayyan.review_id, results_params)\n",
    "        articles_data = articles[\"data\"]\n",
    "\n",
    "        with tqdm(\n",
    "            total=len(articles_data),\n",
    "            desc=f\"Batch {batch_idx + 1}/{total_batches}\",\n",
    "            leave=False,\n",
    "        ) as batch_pbar:\n",
    "            for article in articles_data:\n",
    "                article_doi = article[\"doi\"]\n",
    "                try:\n",
    "                    article_doi = (\n",
    "                        article_doi.removeprefix(\"https://doi.org/\").lower().strip()\n",
    "                    )\n",
    "                except AttributeError:\n",
    "                    # No DOI so skip\n",
    "                    batch_pbar.update(1)\n",
    "                    continue\n",
    "\n",
    "                plan = {}\n",
    "\n",
    "                if article_doi in included_ft_dois:\n",
    "                    plan[\"OttoSR: Include Full-Text\"] = 1\n",
    "                    plan[\"OttoSR: Include Abstract\"] = 1\n",
    "                if article_doi in included_ab_dois:\n",
    "                    plan[\"OttoSR: Include Abstract\"] = 1\n",
    "                if article_doi in excluded_ft_dois:\n",
    "                    plan[\"OttoSR: Exclude Full-Text\"] = 1\n",
    "\n",
    "                # Check if we can avoid processing\n",
    "                existing_labels = article[\"customizations\"].get(\"labels\", {})\n",
    "\n",
    "                if (\n",
    "                    existing_labels.get(\"OttoSR: Include\") is None\n",
    "                    and existing_labels.get(\"OttoSR: Exclude Full-Text\") is None\n",
    "                    and plan.get(\"OttoSR: Include Abstract\") is None\n",
    "                    and plan.get(\"OttoSR: Exclude Full-Text\") is None\n",
    "                ):\n",
    "                    # There is no existing label or plan for this article\n",
    "                    batch_pbar.update(1)\n",
    "                    continue\n",
    "\n",
    "                # If we haven't set the plan, we default to removing existing labels\n",
    "                plan.setdefault(\"OttoSR: Include\", -1)\n",
    "                plan.setdefault(\"OttoSR: Exclude Full-Text\", -1)\n",
    "\n",
    "                rayyan.review.customize(rayyan.review_id, article[\"id\"], plan)\n",
    "                included_ab_dois.discard(article_doi)\n",
    "                included_ft_dois.discard(article_doi)\n",
    "                excluded_ft_dois.discard(article_doi)\n",
    "\n",
    "                batch_pbar.update(1)\n",
    "\n",
    "        overall_pbar.update(1)"
   ]
  },
  {
   "cell_type": "code",
   "execution_count": 7,
   "id": "0989e311",
   "metadata": {},
   "outputs": [
    {
     "name": "stdout",
     "output_type": "stream",
     "text": [
      "Included abstract DOIs left: 77\n",
      "Included full-text DOIs left: 19\n",
      "Excluded DOIs left: 18\n"
     ]
    }
   ],
   "source": [
    "print(\"Included abstract DOIs left:\", len(included_ab_dois))\n",
    "print(\"Included full-text DOIs left:\", len(included_ft_dois))\n",
    "print(\"Excluded DOIs left:\", len(excluded_ft_dois))\n"
   ]
  },
  {
   "cell_type": "code",
   "execution_count": null,
   "id": "9e9e438e",
   "metadata": {},
   "outputs": [],
   "source": [
    "def get_leftover_dois(csv_paths: list[str], leftover_dois: set):\n",
    "    leftover_rows = []\n",
    "\n",
    "    for csv_path in csv_paths:\n",
    "        with open(csv_path) as csvfile:\n",
    "            reader = csv.DictReader(csvfile)\n",
    "            for row in reader:\n",
    "                if (\n",
    "                    row[\"doi\"].removeprefix(\"https://doi.org/\").lower().strip()\n",
    "                    in leftover_dois\n",
    "                ):\n",
    "                    leftover_rows.append(row)\n",
    "\n",
    "    return leftover_rows\n",
    "\n",
    "\n",
    "leftover_ab_dois = get_leftover_dois(\n",
    "    [\n",
    "        \"Sanders-included.csv\",\n",
    "        \"Sanders - excluded-ft.csv\",\n",
    "        \"Sanders - failed-ft.csv\",\n",
    "        \"Sanders - missing-ft.csv\",\n",
    "    ],\n",
    "    included_ab_dois,\n",
    ")\n",
    "assert len(leftover_ab_dois) == len(included_ab_dois)\n",
    "\n",
    "leftover_ft_dois = get_leftover_dois(\n",
    "    [\"Sanders-included.csv\"],\n",
    "    included_ft_dois,\n",
    ")\n",
    "assert len(leftover_ft_dois) == len(included_ft_dois)\n",
    "\n",
    "leftover_excludedft_dois = get_leftover_dois(\n",
    "    [\"Sanders - excluded-ft.csv\"],\n",
    "    excluded_ft_dois,\n",
    ")\n",
    "assert len(leftover_excludedft_dois) == len(excluded_ft_dois)\n"
   ]
  },
  {
   "cell_type": "code",
   "execution_count": null,
   "id": "0f480031",
   "metadata": {},
   "outputs": [],
   "source": [
    "for article in leftover_ab_dois:\n",
    "    print(\n",
    "        f\"\"\"\n",
    "Article DOI: {article[\"doi\"]}\n",
    "Title: {article[\"title\"]}\n",
    "Authors: {article[\"authors\"]}\n",
    "Year: {article[\"date\"]}\n",
    "\"\"\"\n",
    "    )"
   ]
  },
  {
   "cell_type": "code",
   "execution_count": null,
   "id": "41e65676",
   "metadata": {},
   "outputs": [],
   "source": [
    "for article in leftover_ft_dois:\n",
    "    print(\n",
    "        f\"\"\"\n",
    "Article DOI: {article[\"doi\"]}\n",
    "Title: {article[\"title\"]}\n",
    "Authors: {article[\"authors\"]}\n",
    "Year: {article[\"date\"]}\n",
    "\"\"\"\n",
    "    )"
   ]
  },
  {
   "cell_type": "code",
   "execution_count": null,
   "id": "2974954b",
   "metadata": {},
   "outputs": [],
   "source": [
    "for article in leftover_excludedft_dois:\n",
    "    print(\n",
    "        f\"\"\"\n",
    "Article DOI: {article[\"doi\"]}\n",
    "Title: {article[\"title\"]}\n",
    "Authors: {article[\"authors\"]}\n",
    "Year: {article[\"date\"]}\n",
    "\"\"\"\n",
    "    )"
   ]
  }
 ],
 "metadata": {
  "kernelspec": {
   "display_name": ".venv",
   "language": "python",
   "name": "python3"
  },
  "language_info": {
   "codemirror_mode": {
    "name": "ipython",
    "version": 3
   },
   "file_extension": ".py",
   "mimetype": "text/x-python",
   "name": "python",
   "nbconvert_exporter": "python",
   "pygments_lexer": "ipython3",
   "version": "3.13.3"
  }
 },
 "nbformat": 4,
 "nbformat_minor": 5
}
